{
 "cells": [
  {
   "cell_type": "code",
   "execution_count": 4,
   "metadata": {},
   "outputs": [],
   "source": [
    "# read from file\n",
    "from csv import reader\n",
    "import datetime as dt\n",
    "\n",
    "file=open(\"potus_visitors_2015.csv\")\n",
    "read_file = reader(file)\n",
    "potus = list(read_file)\n",
    "potus = potus[1:]"
   ]
  },
  {
   "cell_type": "code",
   "execution_count": null,
   "metadata": {},
   "outputs": [],
   "source": [
    "# first we must figure out what format the date is in:\n",
    "print(potus[-1][2])\n",
    "\n",
    "# date is MM/DD/YY and 24-hr format\n",
    "# convert all dates in this row to the same format.\n",
    "\n",
    "date_format = \"%m/%d/%y %H:%M\"\n",
    "from row in potus:\n",
    "    start_date = row[2]\n",
    "    start_date = dt.datetime.strptime(start_date, date_format)\n",
    "    row[2] = start_date"
   ]
  },
  {
   "cell_type": "code",
   "execution_count": null,
   "metadata": {},
   "outputs": [],
   "source": [
    "# tracking visitors per month\n",
    "visitors_per_month = {}\n",
    "for row in potus:\n",
    "    month_dt = row[2]\n",
    "    month_str = month_dt.strftime(\"%B, %Y\")\n",
    "    if month_str not in visitors_per_month:\n",
    "        visitors_per_month[month_str] = 1\n",
    "    \n",
    "    else:\n",
    "        visitors_per_month[month_str] += 1"
   ]
  },
  {
   "cell_type": "code",
   "execution_count": null,
   "metadata": {},
   "outputs": [],
   "source": [
    "# presidential appt times\n",
    "appt_times = []\n",
    "\n",
    "for row in potus:\n",
    "    appt_dt = row[2]\n",
    "    appt_t = appt_dt.time()\n",
    "    appt_times.append(appt_t)"
   ]
  },
  {
   "cell_type": "code",
   "execution_count": null,
   "metadata": {},
   "outputs": [],
   "source": [
    "#length of meetings\n",
    "for row in potus:\n",
    "    end_date = row[3]\n",
    "    end_date = dt.datetime.strptime(end_date, \"%m/%d/%y %H:%M\")\n",
    "    row[3] = end_date\n",
    "appt_lengths = {}\n",
    "\n",
    "for row in potus:\n",
    "    start_date = row[2]\n",
    "    end_date = row[3]\n",
    "    length = end_date - start_date\n",
    "    if length not in appt_lengths:\n",
    "        appt_lengths[length] = 1\n",
    "    else:\n",
    "        appt_lengths[length] += 1\n",
    "\n",
    "min_length = min(appt_lengths)\n",
    "max_length = max(appt_lengths)"
   ]
  }
 ],
 "metadata": {
  "kernelspec": {
   "display_name": "Python 3",
   "language": "python",
   "name": "python3"
  },
  "language_info": {
   "codemirror_mode": {
    "name": "ipython",
    "version": 3
   },
   "file_extension": ".py",
   "mimetype": "text/x-python",
   "name": "python",
   "nbconvert_exporter": "python",
   "pygments_lexer": "ipython3",
   "version": "3.7.4"
  }
 },
 "nbformat": 4,
 "nbformat_minor": 2
}
