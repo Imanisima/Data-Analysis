{
 "cells": [
  {
   "cell_type": "markdown",
   "metadata": {
    "collapsed": true
   },
   "source": [
    "## Hacker News Posts\n",
    "---\n",
    "The data set used for this project consists of Hacker News Posts.\n",
    "\n",
    "The questions we'd like to solve are:\n",
    "\n",
    "1. Between ```Ask HN``` and ```Show HN```, which type of post receives the most comments on average?\n",
    "2. Does the time of which the post is created determine the average comments received?"
   ]
  },
  {
   "cell_type": "code",
   "execution_count": 5,
   "metadata": {
    "collapsed": false
   },
   "outputs": [],
   "source": [
    "from csv import reader\n",
    "\n",
    "file = open(\"hacker_news.csv\")\n",
    "file_contents = reader(file)\n",
    "hn = list(file_contents)"
   ]
  },
  {
   "cell_type": "code",
   "execution_count": 8,
   "metadata": {
    "collapsed": false
   },
   "outputs": [
    {
     "name": "stdout",
     "output_type": "stream",
     "text": [
      "[['id', 'title', 'url', 'num_points', 'num_comments', 'author', 'created_at'], ['12224879', 'Interactive Dynamic Video', 'http://www.interactivedynamicvideo.com/', '386', '52', 'ne0phyte', '8/4/2016 11:52'], ['10975351', 'How to Use Open Source and Shut the Fuck Up at the Same Time', 'http://hueniverse.com/2016/01/26/how-to-use-open-source-and-shut-the-fuck-up-at-the-same-time/', '39', '10', 'josep2', '1/26/2016 19:30'], ['11964716', \"Florida DJs May Face Felony for April Fools' Water Joke\", 'http://www.thewire.com/entertainment/2013/04/florida-djs-april-fools-water-joke/63798/', '2', '1', 'vezycash', '6/23/2016 22:20'], ['11919867', 'Technology ventures: From Idea to Enterprise', 'https://www.amazon.com/Technology-Ventures-Enterprise-Thomas-Byers/dp/0073523429', '3', '1', 'hswarna', '6/17/2016 0:01']]\n"
     ]
    }
   ],
   "source": [
    "# print first 5 rows\n",
    "print(hn[:5])"
   ]
  },
  {
   "cell_type": "code",
   "execution_count": 11,
   "metadata": {
    "collapsed": false
   },
   "outputs": [],
   "source": [
    "# save header\n",
    "headers = hn[0]"
   ]
  },
  {
   "cell_type": "code",
   "execution_count": 12,
   "metadata": {
    "collapsed": true
   },
   "outputs": [],
   "source": [
    "# remove header from hn[]\n",
    "hn = hn[1:]"
   ]
  },
  {
   "cell_type": "code",
   "execution_count": 13,
   "metadata": {
    "collapsed": false
   },
   "outputs": [
    {
     "name": "stdout",
     "output_type": "stream",
     "text": [
      "['id', 'title', 'url', 'num_points', 'num_comments', 'author', 'created_at']\n"
     ]
    }
   ],
   "source": [
    "# make sure the header has been retrieved\n",
    "print(headers)"
   ]
  },
  {
   "cell_type": "code",
   "execution_count": 14,
   "metadata": {
    "collapsed": false
   },
   "outputs": [
    {
     "name": "stdout",
     "output_type": "stream",
     "text": [
      "[['12224879', 'Interactive Dynamic Video', 'http://www.interactivedynamicvideo.com/', '386', '52', 'ne0phyte', '8/4/2016 11:52'], ['10975351', 'How to Use Open Source and Shut the Fuck Up at the Same Time', 'http://hueniverse.com/2016/01/26/how-to-use-open-source-and-shut-the-fuck-up-at-the-same-time/', '39', '10', 'josep2', '1/26/2016 19:30'], ['11964716', \"Florida DJs May Face Felony for April Fools' Water Joke\", 'http://www.thewire.com/entertainment/2013/04/florida-djs-april-fools-water-joke/63798/', '2', '1', 'vezycash', '6/23/2016 22:20'], ['11919867', 'Technology ventures: From Idea to Enterprise', 'https://www.amazon.com/Technology-Ventures-Enterprise-Thomas-Byers/dp/0073523429', '3', '1', 'hswarna', '6/17/2016 0:01'], ['10301696', 'Note by Note: The Making of Steinway L1037 (2007)', 'http://www.nytimes.com/2007/11/07/movies/07stein.html?_r=0', '8', '2', 'walterbell', '9/30/2015 4:12']]\n"
     ]
    }
   ],
   "source": [
    "# make sure the header has successfully been removed\n",
    "print(hn[:5])"
   ]
  },
  {
   "cell_type": "markdown",
   "metadata": {},
   "source": [
    "### Filter Data"
   ]
  },
  {
   "cell_type": "code",
   "execution_count": 22,
   "metadata": {
    "collapsed": false
   },
   "outputs": [],
   "source": [
    "ask_posts, show_posts, other_posts = [], [], []\n",
    "\n",
    "for row in hn:\n",
    "    title = row[1]\n",
    "    title = title.lower()\n",
    "    \n",
    "    if title.startswith(\"ask hn\"):\n",
    "        ask_posts.append(row)\n",
    "    elif title.startswith(\"show hn\"):\n",
    "        show_posts.append(row)\n",
    "    else:\n",
    "        other_posts.append(row)"
   ]
  },
  {
   "cell_type": "code",
   "execution_count": 18,
   "metadata": {
    "collapsed": true
   },
   "outputs": [],
   "source": [
    "# check number of posts\n",
    "total_ask_posts = len(ask_posts)\n",
    "total_show_posts = len(show_posts)\n",
    "total_other_posts = len(other_posts)"
   ]
  },
  {
   "cell_type": "code",
   "execution_count": 23,
   "metadata": {
    "collapsed": false
   },
   "outputs": [
    {
     "name": "stdout",
     "output_type": "stream",
     "text": [
      "1744\n",
      "1162\n",
      "17194\n"
     ]
    }
   ],
   "source": [
    "print(total_ask_posts)\n",
    "print(total_show_posts)\n",
    "print(total_other_posts)"
   ]
  },
  {
   "cell_type": "code",
   "execution_count": 24,
   "metadata": {
    "collapsed": false
   },
   "outputs": [
    {
     "name": "stdout",
     "output_type": "stream",
     "text": [
      "[['12296411', 'Ask HN: How to improve my personal website?', '', '2', '6', 'ahmedbaracat', '8/16/2016 9:55'], ['10610020', 'Ask HN: Am I the only one outraged by Twitter shutting down share counts?', '', '28', '29', 'tkfx', '11/22/2015 13:43'], ['11610310', 'Ask HN: Aby recent changes to CSS that broke mobile?', '', '1', '1', 'polskibus', '5/2/2016 10:14'], ['12210105', 'Ask HN: Looking for Employee #3 How do I do it?', '', '1', '3', 'sph130', '8/2/2016 14:20'], ['10394168', 'Ask HN: Someone offered to buy my browser extension from me. What now?', '', '28', '17', 'roykolak', '10/15/2015 16:38']]\n"
     ]
    }
   ],
   "source": [
    "# print first 5 rows of each list\n",
    "print(ask_posts[:5])"
   ]
  },
  {
   "cell_type": "code",
   "execution_count": 25,
   "metadata": {
    "collapsed": false
   },
   "outputs": [
    {
     "name": "stdout",
     "output_type": "stream",
     "text": [
      "[['10627194', 'Show HN: Wio Link  ESP8266 Based Web of Things Hardware Development Platform', 'https://iot.seeed.cc', '26', '22', 'kfihihc', '11/25/2015 14:03'], ['10646440', 'Show HN: Something pointless I made', 'http://dn.ht/picklecat/', '747', '102', 'dhotson', '11/29/2015 22:46'], ['11590768', 'Show HN: Shanhu.io, a programming playground powered by e8vm', 'https://shanhu.io', '1', '1', 'h8liu', '4/28/2016 18:05'], ['12178806', 'Show HN: Webscope  Easy way for web developers to communicate with Clients', 'http://webscopeapp.com', '3', '3', 'fastbrick', '7/28/2016 7:11'], ['10872799', 'Show HN: GeoScreenshot  Easily test Geo-IP based web pages', 'https://www.geoscreenshot.com/', '1', '9', 'kpsychwave', '1/9/2016 20:45']]\n"
     ]
    }
   ],
   "source": [
    "print(show_posts[:5])"
   ]
  },
  {
   "cell_type": "markdown",
   "metadata": {},
   "source": [
    "#### Question I: \n",
    "Do ```Ask Posts``` or ```Show Posts``` receive more comments on average?"
   ]
  },
  {
   "cell_type": "code",
   "execution_count": 26,
   "metadata": {
    "collapsed": true
   },
   "outputs": [],
   "source": [
    "# Avg ask comments\n",
    "total_ask_comments = 0\n",
    "for row in ask_posts:\n",
    "    num_comments = row[4]\n",
    "    total_ask_comments += int(num_comments)\n",
    "    \n",
    "avg_ask_comments = total_ask_comments / total_ask_posts"
   ]
  },
  {
   "cell_type": "code",
   "execution_count": 35,
   "metadata": {
    "collapsed": false
   },
   "outputs": [
    {
     "name": "stdout",
     "output_type": "stream",
     "text": [
      "Avg Ask Comments:  14.038417431192661\n"
     ]
    }
   ],
   "source": [
    "print(\"Avg Ask Comments: \", avg_ask_comments)"
   ]
  },
  {
   "cell_type": "code",
   "execution_count": 30,
   "metadata": {
    "collapsed": true
   },
   "outputs": [],
   "source": [
    "# Avg show comments\n",
    "total_show_comments = 0\n",
    "for row in show_posts:\n",
    "    num_comments = row[4]\n",
    "    total_show_comments += int(num_comments)\n",
    "    \n",
    "avg_show_comments = total_show_comments / total_show_posts"
   ]
  },
  {
   "cell_type": "code",
   "execution_count": 33,
   "metadata": {
    "collapsed": false
   },
   "outputs": [
    {
     "name": "stdout",
     "output_type": "stream",
     "text": [
      "Avg Show Comments:  10.31669535283993\n"
     ]
    }
   ],
   "source": [
    "print(\"Avg Show Comments: \", avg_show_comments)"
   ]
  },
  {
   "cell_type": "markdown",
   "metadata": {},
   "source": [
    "#### Observation:\n",
    "On average, according to our sample data, ```ask``` posts tend to receive more comments compared to ```show``` posts. Since ```ask``` posts are more likely to receive more comments, we will focus the rest of our analysis on these posts."
   ]
  },
  {
   "cell_type": "markdown",
   "metadata": {},
   "source": [
    "#### Question II: At what time are ```ask``` posts more likely to attract comments?"
   ]
  },
  {
   "cell_type": "code",
   "execution_count": 48,
   "metadata": {
    "collapsed": true
   },
   "outputs": [],
   "source": [
    "import datetime as dt"
   ]
  },
  {
   "cell_type": "code",
   "execution_count": 60,
   "metadata": {
    "collapsed": false
   },
   "outputs": [],
   "source": [
    "result_list = []\n",
    "for row in ask_posts:\n",
    "    result_list.append(\n",
    "        [row[6], \n",
    "         int(row[4])\n",
    "        ])"
   ]
  },
  {
   "cell_type": "code",
   "execution_count": 62,
   "metadata": {
    "collapsed": false
   },
   "outputs": [],
   "source": [
    "counts_by_hour, comments_by_hour = {}, {}\n",
    "date_format = \"%m/%d/%Y %H:%M\"\n",
    "\n",
    "for row in result_list:\n",
    "    # extract date\n",
    "    date = row[0]\n",
    "    # extract comment number\n",
    "    comment = row[1]\n",
    "    \n",
    "    #format date and extract the hour from that date\n",
    "    time = dt.datetime.strptime(date, date_format).strftime(\"%H\")\n",
    "     \n",
    "    if time in counts_by_hour:\n",
    "        counts_by_hour[time] += 1\n",
    "        comments_by_hour[time] += comment\n",
    "    else:\n",
    "        counts_by_hour[time] = 1\n",
    "        comments_by_hour[time] = comment\n",
    "    "
   ]
  },
  {
   "cell_type": "code",
   "execution_count": 64,
   "metadata": {
    "collapsed": false
   },
   "outputs": [
    {
     "data": {
      "text/plain": [
       "{'00': 55,\n",
       " '01': 60,\n",
       " '02': 58,\n",
       " '03': 54,\n",
       " '04': 47,\n",
       " '05': 46,\n",
       " '06': 44,\n",
       " '07': 34,\n",
       " '08': 48,\n",
       " '09': 45,\n",
       " '10': 59,\n",
       " '11': 58,\n",
       " '12': 73,\n",
       " '13': 85,\n",
       " '14': 107,\n",
       " '15': 116,\n",
       " '16': 108,\n",
       " '17': 100,\n",
       " '18': 109,\n",
       " '19': 110,\n",
       " '20': 80,\n",
       " '21': 109,\n",
       " '22': 71,\n",
       " '23': 68}"
      ]
     },
     "execution_count": 64,
     "metadata": {},
     "output_type": "execute_result"
    }
   ],
   "source": [
    "counts_by_hour"
   ]
  },
  {
   "cell_type": "markdown",
   "metadata": {},
   "source": [
    "### Average comment per hour"
   ]
  },
  {
   "cell_type": "code",
   "execution_count": 67,
   "metadata": {
    "collapsed": false
   },
   "outputs": [],
   "source": [
    "# average number of comments for posts created during each hour\n",
    "avg_by_hour = []\n",
    "\n",
    "for hour in counts_by_hour:\n",
    "    avg_by_hour.append([hour, comments_by_hour[hour] / counts_by_hour[hour]])"
   ]
  },
  {
   "cell_type": "code",
   "execution_count": 68,
   "metadata": {
    "collapsed": false
   },
   "outputs": [
    {
     "data": {
      "text/plain": [
       "[['17', 11.46],\n",
       " ['04', 7.170212765957447],\n",
       " ['02', 23.810344827586206],\n",
       " ['08', 10.25],\n",
       " ['12', 9.41095890410959],\n",
       " ['19', 10.8],\n",
       " ['20', 21.525],\n",
       " ['06', 9.022727272727273],\n",
       " ['03', 7.796296296296297],\n",
       " ['13', 14.741176470588234],\n",
       " ['23', 7.985294117647059],\n",
       " ['00', 8.127272727272727],\n",
       " ['18', 13.20183486238532],\n",
       " ['14', 13.233644859813085],\n",
       " ['16', 16.796296296296298],\n",
       " ['11', 11.051724137931034],\n",
       " ['05', 10.08695652173913],\n",
       " ['09', 5.5777777777777775],\n",
       " ['01', 11.383333333333333],\n",
       " ['22', 6.746478873239437],\n",
       " ['15', 38.5948275862069],\n",
       " ['10', 13.440677966101696],\n",
       " ['21', 16.009174311926607],\n",
       " ['07', 7.852941176470588]]"
      ]
     },
     "execution_count": 68,
     "metadata": {},
     "output_type": "execute_result"
    }
   ],
   "source": [
    "avg_by_hour"
   ]
  },
  {
   "cell_type": "markdown",
   "metadata": {},
   "source": [
    "### Sort lists and print five(5) highest values"
   ]
  },
  {
   "cell_type": "code",
   "execution_count": 70,
   "metadata": {
    "collapsed": false
   },
   "outputs": [
    {
     "data": {
      "text/plain": [
       "[[11.46, '17'],\n",
       " [7.170212765957447, '04'],\n",
       " [23.810344827586206, '02'],\n",
       " [10.25, '08'],\n",
       " [9.41095890410959, '12'],\n",
       " [10.8, '19'],\n",
       " [21.525, '20'],\n",
       " [9.022727272727273, '06'],\n",
       " [7.796296296296297, '03'],\n",
       " [14.741176470588234, '13'],\n",
       " [7.985294117647059, '23'],\n",
       " [8.127272727272727, '00'],\n",
       " [13.20183486238532, '18'],\n",
       " [13.233644859813085, '14'],\n",
       " [16.796296296296298, '16'],\n",
       " [11.051724137931034, '11'],\n",
       " [10.08695652173913, '05'],\n",
       " [5.5777777777777775, '09'],\n",
       " [11.383333333333333, '01'],\n",
       " [6.746478873239437, '22'],\n",
       " [38.5948275862069, '15'],\n",
       " [13.440677966101696, '10'],\n",
       " [16.009174311926607, '21'],\n",
       " [7.852941176470588, '07']]"
      ]
     },
     "execution_count": 70,
     "metadata": {},
     "output_type": "execute_result"
    }
   ],
   "source": [
    "swap_avg_by_hour = []\n",
    "# swap column\n",
    "for row in avg_by_hour:\n",
    "    swap_avg_by_hour.append([row[1], row[0]])\n",
    "    \n",
    "swap_avg_by_hour"
   ]
  },
  {
   "cell_type": "code",
   "execution_count": 72,
   "metadata": {
    "collapsed": false
   },
   "outputs": [
    {
     "data": {
      "text/plain": [
       "[[38.5948275862069, '15'],\n",
       " [23.810344827586206, '02'],\n",
       " [21.525, '20'],\n",
       " [16.796296296296298, '16'],\n",
       " [16.009174311926607, '21'],\n",
       " [14.741176470588234, '13'],\n",
       " [13.440677966101696, '10'],\n",
       " [13.233644859813085, '14'],\n",
       " [13.20183486238532, '18'],\n",
       " [11.46, '17'],\n",
       " [11.383333333333333, '01'],\n",
       " [11.051724137931034, '11'],\n",
       " [10.8, '19'],\n",
       " [10.25, '08'],\n",
       " [10.08695652173913, '05'],\n",
       " [9.41095890410959, '12'],\n",
       " [9.022727272727273, '06'],\n",
       " [8.127272727272727, '00'],\n",
       " [7.985294117647059, '23'],\n",
       " [7.852941176470588, '07'],\n",
       " [7.796296296296297, '03'],\n",
       " [7.170212765957447, '04'],\n",
       " [6.746478873239437, '22'],\n",
       " [5.5777777777777775, '09']]"
      ]
     },
     "execution_count": 72,
     "metadata": {},
     "output_type": "execute_result"
    }
   ],
   "source": [
    "# sort the above list\n",
    "sorted_swap = sorted(swap_avg_by_hour, reverse=True)\n",
    "sorted_swap"
   ]
  },
  {
   "cell_type": "code",
   "execution_count": 77,
   "metadata": {
    "collapsed": false
   },
   "outputs": [
    {
     "name": "stdout",
     "output_type": "stream",
     "text": [
      "Top 5 Hours for Ask Post Comments\n",
      "15:00 EST (13:00 MST): 38.59 average comments per post\n",
      "02:00 EST (00:00 MST): 23.81 average comments per post\n",
      "20:00 EST (18:00 MST): 21.52 average comments per post\n",
      "16:00 EST (14:00 MST): 16.80 average comments per post\n",
      "21:00 EST (19:00 MST): 16.01 average comments per post\n"
     ]
    }
   ],
   "source": [
    "print(\"Top 5 Hours for Ask Post Comments\")\n",
    "\n",
    "for avg, hour in sorted_swap[:5]:\n",
    "    convert_hour_to_mst = int(hour)-2\n",
    "    convert_hour_to_mst = str(convert_hour)\n",
    "    \n",
    "    print(\n",
    "    \"{} EST ({} MST): {:.2f} average comments per post\".format(dt.datetime.strptime(hour, \"%H\").strftime(\"%H:%M\"),\n",
    "                                                              dt.datetime.strptime(convert_hour_to_mst, \"%H\").strftime(\"%H:%M\"),\n",
    "                                                              avg)\n",
    "    )"
   ]
  },
  {
   "cell_type": "markdown",
   "metadata": {},
   "source": [
    "#### Observation\n",
    "To increase your chances of receiving comments, the hour with the highest chance is 13:00 MST with an average of 38.59 comments per post. This is a 62% increase compared to the second highest time to post (Midnight)."
   ]
  },
  {
   "cell_type": "markdown",
   "metadata": {},
   "source": [
    "### Conclusion\n",
    "\n",
    "Of the posts that contained comments and were randomly chosen for this data set, we determined the type of posts receiving the most comments on average were ```Ask HN``` posts compared to ```Show HN``` posts. We also discovered that there is a correlation between the time a user posts their question and the number of comments they may receive. \n",
    "\n",
    "On average, an ask post will receive 14 comments. Yet, our findings illustrate that at 13:00 MST this average increases to approximately 38 comments per post. The second highest time is at midnight, however, the number of comments received is 60% lower than the highest time to post.\n",
    "\n",
    "With this analysis, we reccomend posting your questions at 13:00 MST to maximize the number of responses you'd like to receive."
   ]
  }
 ],
 "metadata": {
  "kernelspec": {
   "display_name": "Python 3",
   "language": "python",
   "name": "python3"
  },
  "language_info": {
   "codemirror_mode": {
    "name": "ipython",
    "version": 3
   },
   "file_extension": ".py",
   "mimetype": "text/x-python",
   "name": "python",
   "nbconvert_exporter": "python",
   "pygments_lexer": "ipython3",
   "version": "3.4.3"
  }
 },
 "nbformat": 4,
 "nbformat_minor": 2
}
